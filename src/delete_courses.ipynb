{
 "cells": [
  {
   "cell_type": "code",
   "execution_count": null,
   "id": "2743e99b-7c1c-4ef3-ac92-0005523e0728",
   "metadata": {},
   "outputs": [],
   "source": [
    "import sys\n",
    "import requests\n",
    "import datetime\n",
    "from Config import CLIENT_ID, CLIENT_SECRET, BLACKBOARD_DOMAIN\n",
    "import Authenticator\n",
    "\n",
    "#DSK External ID YOU MUST HAVE CREATED THIS ATESTDSK ON YOUR Learn SYSTEM\n",
    "DSK_EXTERNAL_ID = \"externalId:ATESTDSK\"\n",
    "\n",
    "LEARN_URL = f'https://{BLACKBOARD_DOMAIN}'\n",
    "# Endpoints\n",
    "TOKEN_URL = f'https://{BLACKBOARD_DOMAIN}/learn/api/public/v1/oauth2/token'\n",
    "DATA_SOURCE_URL = f'https://{BLACKBOARD_DOMAIN}/learn/api/public/v1/dataSources'\n",
    "COURSE_URL = f'https://{BLACKBOARD_DOMAIN}/learn/api/public/v3/courses'\n",
    "\n",
    "auth = Authenticator.Authenticator(LEARN_URL, CLIENT_ID, CLIENT_SECRET)\n",
    "\n",
    "def get_access_token():\n",
    "    \"\"\"Authenticate and obtain an access token.\"\"\"\n",
    "    atoken = auth.learn_auth()\n",
    "    return atoken\n",
    "\n",
    "def delete_course(access_token, course_id):\n",
    "    \"\"\"Delete a course with a given data course_id.\"\"\"\n",
    "    headers = {\n",
    "        'Authorization': f'Bearer {access_token}',\n",
    "        'Content-Type': 'application/json',\n",
    "    }\n",
    "\n",
    "    delete_url = f'{COURSE_URL}/courseId:{course_id}'\n",
    "    response = requests.delete(delete_url, headers=headers)\n",
    "    response.raise_for_status()\n",
    "    return response.json()\n",
    "\n",
    "def main(n):\n",
    "    try:\n",
    "        access_token = get_access_token()\n",
    "        start_time = datetime.datetime.now()\n",
    "        print(f'n is: {n}. deleteing {n} courses')\n",
    "        for i in range(1, n + 1):\n",
    "            course_id = f\"Test_Course_{i}\"\n",
    "            course = delete_course(access_token, course_id)\n",
    "        end_time = datetime.datetime.now()\n",
    "        print(f\">>>{end_time - start_time} to delete {n} courses. {(end_time-start_time)/n} per course.\")\n",
    "        print(f\"WARNING: After deleteting courses you MAY need to WAIT up to 5 minutes before creating again.\")\n",
    "\n",
    "    except requests.exceptions.HTTPError as err:\n",
    "        print(f\"HTTP error occurred: {err}\")\n",
    "        print(f\"Do you have ATESTDSK on the Learn system?\")\n",
    "        print(f\"Did you delete courses you previously created with this application?\")\n",
    "    except Exception as err:\n",
    "        print(f\"An error occurred: {err}\")\n",
    "\n",
    "if __name__ == \"__main__\":\n",
    "    main(1)"
   ]
  }
 ],
 "metadata": {
  "kernelspec": {
   "display_name": "Python 3 (ipykernel)",
   "language": "python",
   "name": "python3"
  },
  "language_info": {
   "codemirror_mode": {
    "name": "ipython",
    "version": 3
   },
   "file_extension": ".py",
   "mimetype": "text/x-python",
   "name": "python",
   "nbconvert_exporter": "python",
   "pygments_lexer": "ipython3",
   "version": "3.11.2"
  }
 },
 "nbformat": 4,
 "nbformat_minor": 5
}
